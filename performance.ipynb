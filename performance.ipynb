{
 "cells": [
  {
   "cell_type": "code",
   "execution_count": 2,
   "id": "2217b0b8-ce23-4d1e-ab3b-81a0b4db89e3",
   "metadata": {},
   "outputs": [],
   "source": [
    "import pandas as pd\n",
    "import numpy as np\n",
    "import tensorflow as tf\n",
    "from sklearn.model_selection import train_test_split\n",
    "import seaborn as sns\n",
    "import matplotlib.pyplot as plt"
   ]
  },
  {
   "cell_type": "code",
   "execution_count": 3,
   "id": "693a9abb-d08b-4b82-8baa-8c1024aa43ad",
   "metadata": {},
   "outputs": [],
   "source": [
    "df = pd.read_csv('DF_Pre.csv')"
   ]
  },
  {
   "cell_type": "code",
   "execution_count": 4,
   "id": "82849b7b-7c76-4ef9-ac38-cd0fe0b7b8b6",
   "metadata": {},
   "outputs": [
    {
     "data": {
      "text/html": [
       "<div>\n",
       "<style scoped>\n",
       "    .dataframe tbody tr th:only-of-type {\n",
       "        vertical-align: middle;\n",
       "    }\n",
       "\n",
       "    .dataframe tbody tr th {\n",
       "        vertical-align: top;\n",
       "    }\n",
       "\n",
       "    .dataframe thead th {\n",
       "        text-align: right;\n",
       "    }\n",
       "</style>\n",
       "<table border=\"1\" class=\"dataframe\">\n",
       "  <thead>\n",
       "    <tr style=\"text-align: right;\">\n",
       "      <th></th>\n",
       "      <th>Unnamed: 0</th>\n",
       "      <th>0</th>\n",
       "      <th>1</th>\n",
       "      <th>2</th>\n",
       "      <th>3</th>\n",
       "      <th>4</th>\n",
       "      <th>5</th>\n",
       "      <th>6</th>\n",
       "      <th>7</th>\n",
       "      <th>8</th>\n",
       "      <th>9</th>\n",
       "      <th>10</th>\n",
       "      <th>11</th>\n",
       "    </tr>\n",
       "  </thead>\n",
       "  <tbody>\n",
       "    <tr>\n",
       "      <th>0</th>\n",
       "      <td>0</td>\n",
       "      <td>7.0</td>\n",
       "      <td>21.0</td>\n",
       "      <td>30.0</td>\n",
       "      <td>2.0</td>\n",
       "      <td>3.0</td>\n",
       "      <td>30.0</td>\n",
       "      <td>2.0</td>\n",
       "      <td>3.0</td>\n",
       "      <td>59.0</td>\n",
       "      <td>6.0</td>\n",
       "      <td>2.0</td>\n",
       "      <td>0.0</td>\n",
       "    </tr>\n",
       "    <tr>\n",
       "      <th>1</th>\n",
       "      <td>1</td>\n",
       "      <td>7.0</td>\n",
       "      <td>32.0</td>\n",
       "      <td>70.0</td>\n",
       "      <td>2.0</td>\n",
       "      <td>4.0</td>\n",
       "      <td>68.0</td>\n",
       "      <td>2.0</td>\n",
       "      <td>4.0</td>\n",
       "      <td>134.0</td>\n",
       "      <td>6.0</td>\n",
       "      <td>2.0</td>\n",
       "      <td>0.0</td>\n",
       "    </tr>\n",
       "    <tr>\n",
       "      <th>2</th>\n",
       "      <td>2</td>\n",
       "      <td>7.0</td>\n",
       "      <td>15.0</td>\n",
       "      <td>1.0</td>\n",
       "      <td>2.0</td>\n",
       "      <td>2.0</td>\n",
       "      <td>0.0</td>\n",
       "      <td>2.0</td>\n",
       "      <td>2.0</td>\n",
       "      <td>0.0</td>\n",
       "      <td>6.0</td>\n",
       "      <td>2.0</td>\n",
       "      <td>0.0</td>\n",
       "    </tr>\n",
       "    <tr>\n",
       "      <th>3</th>\n",
       "      <td>3</td>\n",
       "      <td>7.0</td>\n",
       "      <td>33.0</td>\n",
       "      <td>77.0</td>\n",
       "      <td>2.0</td>\n",
       "      <td>7.0</td>\n",
       "      <td>73.0</td>\n",
       "      <td>2.0</td>\n",
       "      <td>7.0</td>\n",
       "      <td>144.0</td>\n",
       "      <td>6.0</td>\n",
       "      <td>2.0</td>\n",
       "      <td>0.0</td>\n",
       "    </tr>\n",
       "    <tr>\n",
       "      <th>4</th>\n",
       "      <td>4</td>\n",
       "      <td>7.0</td>\n",
       "      <td>55.0</td>\n",
       "      <td>78.0</td>\n",
       "      <td>3.0</td>\n",
       "      <td>7.0</td>\n",
       "      <td>74.0</td>\n",
       "      <td>3.0</td>\n",
       "      <td>7.0</td>\n",
       "      <td>146.0</td>\n",
       "      <td>8.0</td>\n",
       "      <td>2.0</td>\n",
       "      <td>0.0</td>\n",
       "    </tr>\n",
       "  </tbody>\n",
       "</table>\n",
       "</div>"
      ],
      "text/plain": [
       "   Unnamed: 0    0     1     2    3    4     5    6    7      8    9   10   11\n",
       "0           0  7.0  21.0  30.0  2.0  3.0  30.0  2.0  3.0   59.0  6.0  2.0  0.0\n",
       "1           1  7.0  32.0  70.0  2.0  4.0  68.0  2.0  4.0  134.0  6.0  2.0  0.0\n",
       "2           2  7.0  15.0   1.0  2.0  2.0   0.0  2.0  2.0    0.0  6.0  2.0  0.0\n",
       "3           3  7.0  33.0  77.0  2.0  7.0  73.0  2.0  7.0  144.0  6.0  2.0  0.0\n",
       "4           4  7.0  55.0  78.0  3.0  7.0  74.0  3.0  7.0  146.0  8.0  2.0  0.0"
      ]
     },
     "execution_count": 4,
     "metadata": {},
     "output_type": "execute_result"
    }
   ],
   "source": [
    "df.head()"
   ]
  },
  {
   "cell_type": "code",
   "execution_count": 5,
   "id": "0dbaace7-3678-4f49-b905-5c77a55c0222",
   "metadata": {},
   "outputs": [
    {
     "data": {
      "text/plain": [
       "<bound method NDFrame.head of         Unnamed: 0    0     1     2    3     4     5    6     7      8    9  \\\n",
       "0                0  7.0  21.0  30.0  2.0   3.0  30.0  2.0   3.0   59.0  6.0   \n",
       "1                1  7.0  32.0  70.0  2.0   4.0  68.0  2.0   4.0  134.0  6.0   \n",
       "2                2  7.0  15.0   1.0  2.0   2.0   0.0  2.0   2.0    0.0  6.0   \n",
       "3                3  7.0  33.0  77.0  2.0   7.0  73.0  2.0   7.0  144.0  6.0   \n",
       "4                4  7.0  55.0  78.0  3.0   7.0  74.0  3.0   7.0  146.0  8.0   \n",
       "...            ...  ...   ...   ...  ...   ...   ...  ...   ...    ...  ...   \n",
       "357936      357936  7.0  25.0  46.0  2.0  15.0  46.0  4.0  15.0   92.0  9.0   \n",
       "357937      357937  7.0  82.0  14.0  7.0  10.0   8.0  0.0  10.0   16.0  1.0   \n",
       "357938      357938  7.0  82.0  14.0  7.0  10.0   8.0  0.0  10.0   17.0  2.0   \n",
       "357939      357939  7.0  30.0  62.0  2.0  20.0  61.0  3.0  20.0  122.0  4.0   \n",
       "357940      357940  7.0  30.0  62.0  2.0  20.0  62.0  4.0  20.0  123.0  9.0   \n",
       "\n",
       "         10       11  \n",
       "0       2.0   0.0000  \n",
       "1       2.0   0.0000  \n",
       "2       2.0   0.0000  \n",
       "3       2.0   0.0000  \n",
       "4       2.0   0.0000  \n",
       "...     ...      ...  \n",
       "357936  1.0  20.3479  \n",
       "357937  1.0   9.0000  \n",
       "357938  1.0   1.0000  \n",
       "357939  1.0   0.0000  \n",
       "357940  1.0  20.4131  \n",
       "\n",
       "[357941 rows x 13 columns]>"
      ]
     },
     "execution_count": 5,
     "metadata": {},
     "output_type": "execute_result"
    }
   ],
   "source": [
    "df.head"
   ]
  },
  {
   "cell_type": "code",
   "execution_count": 6,
   "id": "5712368b-10e0-4fa4-996b-6d7c9d570a1c",
   "metadata": {},
   "outputs": [],
   "source": [
    "df = df.drop(columns=\"Unnamed: 0\")"
   ]
  },
  {
   "cell_type": "code",
   "execution_count": 7,
   "id": "5b424c2b-0f68-40e7-afc5-c7397180e6cb",
   "metadata": {},
   "outputs": [
    {
     "data": {
      "text/html": [
       "<div>\n",
       "<style scoped>\n",
       "    .dataframe tbody tr th:only-of-type {\n",
       "        vertical-align: middle;\n",
       "    }\n",
       "\n",
       "    .dataframe tbody tr th {\n",
       "        vertical-align: top;\n",
       "    }\n",
       "\n",
       "    .dataframe thead th {\n",
       "        text-align: right;\n",
       "    }\n",
       "</style>\n",
       "<table border=\"1\" class=\"dataframe\">\n",
       "  <thead>\n",
       "    <tr style=\"text-align: right;\">\n",
       "      <th></th>\n",
       "      <th>0</th>\n",
       "      <th>1</th>\n",
       "      <th>2</th>\n",
       "      <th>3</th>\n",
       "      <th>4</th>\n",
       "      <th>5</th>\n",
       "      <th>6</th>\n",
       "      <th>7</th>\n",
       "      <th>8</th>\n",
       "      <th>9</th>\n",
       "      <th>10</th>\n",
       "      <th>11</th>\n",
       "    </tr>\n",
       "  </thead>\n",
       "  <tbody>\n",
       "    <tr>\n",
       "      <th>0</th>\n",
       "      <td>7.0</td>\n",
       "      <td>21.0</td>\n",
       "      <td>30.0</td>\n",
       "      <td>2.0</td>\n",
       "      <td>3.0</td>\n",
       "      <td>30.0</td>\n",
       "      <td>2.0</td>\n",
       "      <td>3.0</td>\n",
       "      <td>59.0</td>\n",
       "      <td>6.0</td>\n",
       "      <td>2.0</td>\n",
       "      <td>0.0</td>\n",
       "    </tr>\n",
       "    <tr>\n",
       "      <th>1</th>\n",
       "      <td>7.0</td>\n",
       "      <td>32.0</td>\n",
       "      <td>70.0</td>\n",
       "      <td>2.0</td>\n",
       "      <td>4.0</td>\n",
       "      <td>68.0</td>\n",
       "      <td>2.0</td>\n",
       "      <td>4.0</td>\n",
       "      <td>134.0</td>\n",
       "      <td>6.0</td>\n",
       "      <td>2.0</td>\n",
       "      <td>0.0</td>\n",
       "    </tr>\n",
       "    <tr>\n",
       "      <th>2</th>\n",
       "      <td>7.0</td>\n",
       "      <td>15.0</td>\n",
       "      <td>1.0</td>\n",
       "      <td>2.0</td>\n",
       "      <td>2.0</td>\n",
       "      <td>0.0</td>\n",
       "      <td>2.0</td>\n",
       "      <td>2.0</td>\n",
       "      <td>0.0</td>\n",
       "      <td>6.0</td>\n",
       "      <td>2.0</td>\n",
       "      <td>0.0</td>\n",
       "    </tr>\n",
       "    <tr>\n",
       "      <th>3</th>\n",
       "      <td>7.0</td>\n",
       "      <td>33.0</td>\n",
       "      <td>77.0</td>\n",
       "      <td>2.0</td>\n",
       "      <td>7.0</td>\n",
       "      <td>73.0</td>\n",
       "      <td>2.0</td>\n",
       "      <td>7.0</td>\n",
       "      <td>144.0</td>\n",
       "      <td>6.0</td>\n",
       "      <td>2.0</td>\n",
       "      <td>0.0</td>\n",
       "    </tr>\n",
       "    <tr>\n",
       "      <th>4</th>\n",
       "      <td>7.0</td>\n",
       "      <td>55.0</td>\n",
       "      <td>78.0</td>\n",
       "      <td>3.0</td>\n",
       "      <td>7.0</td>\n",
       "      <td>74.0</td>\n",
       "      <td>3.0</td>\n",
       "      <td>7.0</td>\n",
       "      <td>146.0</td>\n",
       "      <td>8.0</td>\n",
       "      <td>2.0</td>\n",
       "      <td>0.0</td>\n",
       "    </tr>\n",
       "  </tbody>\n",
       "</table>\n",
       "</div>"
      ],
      "text/plain": [
       "     0     1     2    3    4     5    6    7      8    9   10   11\n",
       "0  7.0  21.0  30.0  2.0  3.0  30.0  2.0  3.0   59.0  6.0  2.0  0.0\n",
       "1  7.0  32.0  70.0  2.0  4.0  68.0  2.0  4.0  134.0  6.0  2.0  0.0\n",
       "2  7.0  15.0   1.0  2.0  2.0   0.0  2.0  2.0    0.0  6.0  2.0  0.0\n",
       "3  7.0  33.0  77.0  2.0  7.0  73.0  2.0  7.0  144.0  6.0  2.0  0.0\n",
       "4  7.0  55.0  78.0  3.0  7.0  74.0  3.0  7.0  146.0  8.0  2.0  0.0"
      ]
     },
     "execution_count": 7,
     "metadata": {},
     "output_type": "execute_result"
    }
   ],
   "source": [
    "df.head()"
   ]
  },
  {
   "cell_type": "code",
   "execution_count": 8,
   "id": "25862e91-ba6c-4501-aec8-c30095516291",
   "metadata": {},
   "outputs": [],
   "source": [
    "y = df.iloc[:,0].values\n",
    "X = df.iloc[:,1:].values"
   ]
  },
  {
   "cell_type": "markdown",
   "id": "ad65b04c-968d-4541-af18-eb244f3f99fc",
   "metadata": {},
   "source": [
    "## Splitting the dataset in 70:30 "
   ]
  },
  {
   "cell_type": "code",
   "execution_count": 9,
   "id": "e2c7f970-12f9-46d0-a794-790e88d369a2",
   "metadata": {},
   "outputs": [],
   "source": [
    "X_train, X_test, y_train, y_test = train_test_split(X,y, test_size=0.30, random_state = 42)"
   ]
  },
  {
   "cell_type": "markdown",
   "id": "9e844382-bc37-4dc4-9ac4-18bd13de45e1",
   "metadata": {},
   "source": [
    "## Logistic Regression"
   ]
  },
  {
   "cell_type": "code",
   "execution_count": 10,
   "id": "720742dc-d20e-4f85-bc4d-976934f4f9e0",
   "metadata": {},
   "outputs": [],
   "source": [
    "from sklearn.preprocessing import StandardScaler\n",
    "from sklearn.pipeline import Pipeline\n",
    "from sklearn.linear_model import LogisticRegression\n",
    "from sklearn.model_selection import cross_val_score,learning_curve\n",
    "import matplotlib.pyplot as plt"
   ]
  },
  {
   "cell_type": "code",
   "execution_count": 11,
   "id": "a921dcd5-aa83-4bf5-95b4-ee1d621e6fc5",
   "metadata": {},
   "outputs": [],
   "source": [
    "pipe_lr = Pipeline([('scl', StandardScaler()),('clf', LogisticRegression(penalty='l2', random_state=0))])\n",
    "train_sizes, train_scores, test_scores = learning_curve(estimator=pipe_lr,X=X, y=y, train_sizes=np.linspace(0.2,1.0,5), cv=5, n_jobs=-1)\n",
    "train_mean = np.mean(train_scores, axis=1)\n",
    "train_std = np.std(train_scores, axis=1)\n",
    "test_mean = np.mean(test_scores, axis=1)\n",
    "test_std = np.std(test_scores, axis=1)"
   ]
  },
  {
   "cell_type": "code",
   "execution_count": 12,
   "id": "3ce7eba0-b43b-4cc4-8ee4-8efb279d720d",
   "metadata": {},
   "outputs": [
    {
     "name": "stdout",
     "output_type": "stream",
     "text": [
      "57270\n",
      "114540\n",
      "171811\n",
      "229081\n",
      "286352\n"
     ]
    }
   ],
   "source": [
    "for i in train_sizes:\n",
    "    print(i)"
   ]
  },
  {
   "cell_type": "code",
   "execution_count": 13,
   "id": "db61be97-b393-4b1e-8cba-1e84c8359bf9",
   "metadata": {},
   "outputs": [
    {
     "name": "stdout",
     "output_type": "stream",
     "text": [
      "0.9863314126069496\n",
      "0.986624759909202\n",
      "0.9861813271560027\n",
      "0.9863393297567237\n",
      "0.9882340615745655\n"
     ]
    }
   ],
   "source": [
    "for i in train_mean:\n",
    "    print(i)"
   ]
  },
  {
   "cell_type": "code",
   "execution_count": 14,
   "id": "0ce4f2f0-fb1d-453e-9016-de4267e47602",
   "metadata": {},
   "outputs": [
    {
     "name": "stdout",
     "output_type": "stream",
     "text": [
      "0.8868386334303769\n",
      "0.8696122977480236\n",
      "0.9778958089510186\n",
      "0.9843214581799293\n",
      "0.98802319594036\n"
     ]
    }
   ],
   "source": [
    "for i in test_mean:\n",
    "    print(i)"
   ]
  },
  {
   "cell_type": "markdown",
   "id": "58f82c32-b14c-49ad-ab6f-96e02ce36b4b",
   "metadata": {},
   "source": [
    "## Metric analyze"
   ]
  },
  {
   "cell_type": "code",
   "execution_count": 15,
   "id": "aaa2871d-2437-4f51-ab75-ceca7b58cc1e",
   "metadata": {},
   "outputs": [],
   "source": [
    "pipe_lr = pipe_lr.fit(X_train, y_train)"
   ]
  },
  {
   "cell_type": "code",
   "execution_count": 16,
   "id": "7f424883-3204-468d-b87c-a9fbba4fad98",
   "metadata": {},
   "outputs": [],
   "source": [
    "y_pred_train = pipe_lr.predict(X_train)"
   ]
  },
  {
   "cell_type": "code",
   "execution_count": 17,
   "id": "0be07d43-a84b-49ff-baf2-53dd0820f8ca",
   "metadata": {},
   "outputs": [],
   "source": [
    "y_pred_test = pipe_lr.predict(X_test)"
   ]
  },
  {
   "cell_type": "code",
   "execution_count": 18,
   "id": "f53af831-4fe1-493d-9631-b1131f7170ec",
   "metadata": {},
   "outputs": [],
   "source": [
    "from sklearn.metrics import accuracy_score"
   ]
  },
  {
   "cell_type": "code",
   "execution_count": 19,
   "id": "301a2ac2-afd7-4fdb-9b2f-7a050d678dae",
   "metadata": {},
   "outputs": [
    {
     "data": {
      "text/plain": [
       "0.9880187421674822"
      ]
     },
     "execution_count": 19,
     "metadata": {},
     "output_type": "execute_result"
    }
   ],
   "source": [
    "accuracy_score(y_train, y_pred_train)"
   ]
  },
  {
   "cell_type": "code",
   "execution_count": 20,
   "id": "1ed2c3c9-5574-49cb-a408-c2739e0e60d3",
   "metadata": {},
   "outputs": [
    {
     "data": {
      "text/plain": [
       "0.988210424368848"
      ]
     },
     "execution_count": 20,
     "metadata": {},
     "output_type": "execute_result"
    }
   ],
   "source": [
    "accuracy_score(y_test, y_pred_test)"
   ]
  },
  {
   "cell_type": "code",
   "execution_count": 21,
   "id": "28d9b0e2-0622-49ca-b060-0fd00b59dfb4",
   "metadata": {},
   "outputs": [],
   "source": [
    "from sklearn.metrics import classification_report"
   ]
  },
  {
   "cell_type": "code",
   "execution_count": 22,
   "id": "3d711fc6-2cc5-45d6-98dd-dfa8da133f92",
   "metadata": {},
   "outputs": [],
   "source": [
    "target_names = ['Normal', 'DoSattack', 'scan', 'malitiousControl', 'malitiousOperation', 'spying', 'dataProbing', 'wrongSetUp']"
   ]
  },
  {
   "cell_type": "code",
   "execution_count": 23,
   "id": "dd552563-11e9-4f1f-8247-35ea57b8acb8",
   "metadata": {},
   "outputs": [
    {
     "name": "stdout",
     "output_type": "stream",
     "text": [
      "                    precision    recall  f1-score   support\n",
      "\n",
      "            Normal       0.96      0.65      0.77      4041\n",
      "         DoSattack       1.00      0.59      0.74       240\n",
      "              scan       0.98      0.93      0.95       620\n",
      "  malitiousControl       0.84      0.48      0.61       562\n",
      "malitiousOperation       0.89      0.44      0.59      1087\n",
      "            spying       0.00      0.00      0.00       370\n",
      "       dataProbing       0.91      1.00      0.95        90\n",
      "        wrongSetUp       0.99      1.00      0.99    243548\n",
      "\n",
      "          accuracy                           0.99    250558\n",
      "         macro avg       0.82      0.64      0.70    250558\n",
      "      weighted avg       0.99      0.99      0.99    250558\n",
      "\n"
     ]
    }
   ],
   "source": [
    "print(classification_report(y_train, y_pred_train, target_names=target_names))"
   ]
  },
  {
   "cell_type": "code",
   "execution_count": 24,
   "id": "96840399-ade3-4ac1-b8f8-ae9093936431",
   "metadata": {},
   "outputs": [
    {
     "name": "stdout",
     "output_type": "stream",
     "text": [
      "                    precision    recall  f1-score   support\n",
      "\n",
      "            Normal       0.97      0.67      0.79      1739\n",
      "         DoSattack       1.00      0.57      0.72       102\n",
      "              scan       0.99      0.91      0.95       269\n",
      "  malitiousControl       0.79      0.49      0.61       243\n",
      "malitiousOperation       0.86      0.43      0.57       460\n",
      "            spying       0.00      0.00      0.00       162\n",
      "       dataProbing       0.91      1.00      0.96        32\n",
      "        wrongSetUp       0.99      1.00      0.99    104376\n",
      "\n",
      "          accuracy                           0.99    107383\n",
      "         macro avg       0.81      0.63      0.70    107383\n",
      "      weighted avg       0.99      0.99      0.99    107383\n",
      "\n"
     ]
    }
   ],
   "source": [
    "print(classification_report(y_test, y_pred_test, target_names=target_names))"
   ]
  },
  {
   "cell_type": "code",
   "execution_count": 25,
   "id": "76206bd5-bd39-4d21-8b30-1649e04c9e24",
   "metadata": {},
   "outputs": [],
   "source": [
    "from sklearn.metrics import confusion_matrix\n",
    "import itertools"
   ]
  },
  {
   "cell_type": "code",
   "execution_count": 26,
   "id": "05c39cfa-96a0-4e9a-9974-cb22468ee658",
   "metadata": {},
   "outputs": [],
   "source": [
    "cnf_matrix = confusion_matrix(y_test, y_pred_test)"
   ]
  },
  {
   "cell_type": "code",
   "execution_count": 27,
   "id": "13ab12c8-713b-4c20-bde8-e0bbdfd27e03",
   "metadata": {},
   "outputs": [
    {
     "data": {
      "image/png": "[encoded data removed]",
      "text/plain": [
       "<Figure size 640x480 with 2 Axes>"
      ]
     },
     "metadata": {},
     "output_type": "display_data"
    }
   ],
   "source": [
    "ax = sns.heatmap(cnf_matrix, annot=True, fmt=\"d\")\n",
    "\n",
    "# Define the new tick labels\n",
    "new_labels = [\"DoS\", \"D.P\", \"M.C\", \"M.O\", \"SC\", \"SP\", \"W.S\", \"NL\"]\n",
    "\n",
    "# Set the new tick labels for both axes\n",
    "ax.set_xticklabels(new_labels)\n",
    "ax.set_yticklabels(new_labels)\n",
    "\n",
    "\n",
    "ax.set_title('LR')\n",
    "plt.savefig(\"LR.jpg\")\n",
    "# Show the plot\n",
    "plt.show()"
   ]
  },
  {
   "cell_type": "markdown",
   "id": "671098fd-1e00-47a0-92f6-828767445ca7",
   "metadata": {},
   "source": [
    "## RandomForest"
   ]
  },
  {
   "cell_type": "code",
   "execution_count": 28,
   "id": "15d4d8f9-cf22-4150-aa33-c45af3721390",
   "metadata": {},
   "outputs": [],
   "source": [
    "from sklearn.ensemble import RandomForestClassifier\n",
    "from sklearn.model_selection import GridSearchCV"
   ]
  },
  {
   "cell_type": "code",
   "execution_count": 29,
   "id": "8f48c954-8a5c-4f45-a491-e641e3ffdc61",
   "metadata": {},
   "outputs": [],
   "source": [
    "pipe_rnd = Pipeline([('scl', StandardScaler()),('clf', RandomForestClassifier(n_estimators=10))])"
   ]
  },
  {
   "cell_type": "code",
   "execution_count": null,
   "id": "32ee33cf-92d0-4890-a278-a85ea455c65f",
   "metadata": {},
   "outputs": [],
   "source": [
    "param_grid = {\n",
    "    'clf__n_estimators': [50, 100],  # Example values for number of estimators\n",
    "    'clf__max_depth': [None, 10, 20],  # Example values for max depth of trees\n",
    "    # Add more hyperparameters to tune as needed\n",
    "}"
   ]
  },
  {
   "cell_type": "code",
   "execution_count": null,
   "id": "1b9d3188-8fb4-4cc2-98e8-bbb46042c812",
   "metadata": {},
   "outputs": [],
   "source": [
    "grid_search = GridSearchCV(pipe_rnd, param_grid, cv=5, n_jobs=-1)\n",
    "grid_search.fit(X_train, y_train)\n"
   ]
  },
  {
   "cell_type": "code",
   "execution_count": null,
   "id": "9d578348-cff4-4761-a40c-a7e6bc7dc6cd",
   "metadata": {},
   "outputs": [],
   "source": [
    "best_estimator = grid_search.best_estimator_"
   ]
  },
  {
   "cell_type": "code",
   "execution_count": 30,
   "id": "dd212d80-823d-469d-9180-32442fa889e2",
   "metadata": {},
   "outputs": [],
   "source": [
    "\n",
    "train_sizes_rnd, train_scores_rnd, test_scores_rnd = learning_curve(estimator=pipe_rnd,X=X, y=y, train_sizes=np.linspace(0.2,1.0,5), cv=5, n_jobs=-1)\n",
    "\n",
    "train_mean_rnd = np.mean(train_scores_rnd, axis=1)\n",
    "train_std_rnd = np.std(train_scores_rnd, axis=1)\n",
    "test_mean_rnd = np.mean(test_scores_rnd, axis=1)\n",
    "test_std_rnd = np.std(test_scores_rnd, axis=1)"
   ]
  },
  {
   "cell_type": "code",
   "execution_count": 56,
   "id": "feb3ce65-d41c-4da4-8438-d21d6f2bd403",
   "metadata": {},
   "outputs": [
    {
     "name": "stdout",
     "output_type": "stream",
     "text": [
      "57270\n",
      "114540\n",
      "171811\n",
      "229081\n",
      "286352\n"
     ]
    }
   ],
   "source": [
    "for i in train_sizes_rnd:\n",
    "    print(i)"
   ]
  },
  {
   "cell_type": "code",
   "execution_count": 31,
   "id": "18e25485-8bf4-43d8-a11d-eba43ff1cfa2",
   "metadata": {},
   "outputs": [
    {
     "name": "stdout",
     "output_type": "stream",
     "text": [
      "0.9866876200453991\n",
      "0.9884634188929631\n",
      "0.9906862773629163\n",
      "0.9928566751498378\n",
      "0.9942162094205733\n"
     ]
    }
   ],
   "source": [
    "for i in train_mean_rnd:\n",
    "    print(i)"
   ]
  },
  {
   "cell_type": "code",
   "execution_count": 32,
   "id": "febe3a2c-162b-4bb9-8a49-24e94c83b618",
   "metadata": {},
   "outputs": [
    {
     "name": "stdout",
     "output_type": "stream",
     "text": [
      "0.9457647099972462\n",
      "0.9458904368453425\n",
      "0.9801671312634014\n",
      "0.9884813648200831\n",
      "0.9932223805653226\n"
     ]
    }
   ],
   "source": [
    "for i in test_mean_rnd:\n",
    "    print(i)"
   ]
  },
  {
   "cell_type": "code",
   "execution_count": 33,
   "id": "8f068abf-3b85-487a-a27e-6d8103a47946",
   "metadata": {},
   "outputs": [],
   "source": [
    "pipe_rnd = pipe_rnd.fit(X_train, y_train)"
   ]
  },
  {
   "cell_type": "code",
   "execution_count": 34,
   "id": "f5d3da04-b8d9-47da-bba6-25abee170eed",
   "metadata": {},
   "outputs": [],
   "source": [
    "y_pred_train = pipe_rnd.predict(X_train)\n",
    "y_pred_test = pipe_rnd.predict(X_test)"
   ]
  },
  {
   "cell_type": "code",
   "execution_count": 35,
   "id": "1c51d6be-ac53-40de-9613-7dfdb864f1cc",
   "metadata": {},
   "outputs": [
    {
     "data": {
      "text/plain": [
       "(0.994109148380814, 0.9944590857025786)"
      ]
     },
     "execution_count": 35,
     "metadata": {},
     "output_type": "execute_result"
    }
   ],
   "source": [
    "accuracy_score(y_train, y_pred_train), accuracy_score(y_test, y_pred_test)"
   ]
  },
  {
   "cell_type": "code",
   "execution_count": 36,
   "id": "d0450ef4-755a-426c-9b1d-ad5eca12ce21",
   "metadata": {},
   "outputs": [
    {
     "name": "stdout",
     "output_type": "stream",
     "text": [
      "                    precision    recall  f1-score   support\n",
      "\n",
      "            Normal       0.98      0.65      0.78      4041\n",
      "         DoSattack       1.00      1.00      1.00       240\n",
      "              scan       1.00      1.00      1.00       620\n",
      "  malitiousControl       1.00      1.00      1.00       562\n",
      "malitiousOperation       1.00      1.00      1.00      1087\n",
      "            spying       1.00      1.00      1.00       370\n",
      "       dataProbing       1.00      1.00      1.00        90\n",
      "        wrongSetUp       0.99      1.00      1.00    243548\n",
      "\n",
      "          accuracy                           0.99    250558\n",
      "         macro avg       1.00      0.96      0.97    250558\n",
      "      weighted avg       0.99      0.99      0.99    250558\n",
      "\n"
     ]
    }
   ],
   "source": [
    "print(classification_report(y_train, y_pred_train, target_names=target_names))"
   ]
  },
  {
   "cell_type": "code",
   "execution_count": 37,
   "id": "07528d96-b8a2-4935-9163-f844757b280f",
   "metadata": {},
   "outputs": [
    {
     "name": "stdout",
     "output_type": "stream",
     "text": [
      "                    precision    recall  f1-score   support\n",
      "\n",
      "            Normal       0.99      0.67      0.80      1739\n",
      "         DoSattack       1.00      1.00      1.00       102\n",
      "              scan       1.00      1.00      1.00       269\n",
      "  malitiousControl       1.00      1.00      1.00       243\n",
      "malitiousOperation       1.00      1.00      1.00       460\n",
      "            spying       1.00      1.00      1.00       162\n",
      "       dataProbing       1.00      1.00      1.00        32\n",
      "        wrongSetUp       0.99      1.00      1.00    104376\n",
      "\n",
      "          accuracy                           0.99    107383\n",
      "         macro avg       1.00      0.96      0.97    107383\n",
      "      weighted avg       0.99      0.99      0.99    107383\n",
      "\n"
     ]
    }
   ],
   "source": [
    "\n",
    "print(classification_report(y_test, y_pred_test, target_names=target_names))\n",
    "\n"
   ]
  },
  {
   "cell_type": "code",
   "execution_count": 38,
   "id": "4d651bbc-41c0-46d3-81eb-f92024a7d3fe",
   "metadata": {},
   "outputs": [],
   "source": [
    "cnf_matrix = confusion_matrix(y_test, y_pred_test)"
   ]
  },
  {
   "cell_type": "code",
   "execution_count": 39,
   "id": "553b0ced-9ba6-4b27-9c7d-1ca64cbd4dc8",
   "metadata": {},
   "outputs": [
    {
     "data": {
      "image/png": "[encoded data removed]",
      "text/plain": [
       "<Figure size 640x480 with 2 Axes>"
      ]
     },
     "metadata": {},
     "output_type": "display_data"
    }
   ],
   "source": [
    "bax = sns.heatmap(cnf_matrix, annot=True, fmt=\"d\")\n",
    "\n",
    "# Define the new tick labels\n",
    "new_labels = [\"DoS\", \"D.P\", \"M.C\", \"M.O\", \"SC\", \"SP\", \"W.S\", \"NL\"]\n",
    "\n",
    "# Set the new tick labels for both axes\n",
    "bax.set_xticklabels(new_labels)\n",
    "bax.set_yticklabels(new_labels)\n",
    "\n",
    "\n",
    "bax.set_title('RF')\n",
    "plt.savefig(\"RF.jpg\")\n",
    "# Show the plot\n",
    "plt.show()"
   ]
  },
  {
   "cell_type": "code",
   "execution_count": null,
   "id": "35a7ec22-fbe7-44ac-80a9-44e6f084d3ed",
   "metadata": {},
   "outputs": [],
   "source": [
    "cnf_matrix"
   ]
  },
  {
   "cell_type": "markdown",
   "id": "af2afc62-6d0f-49e7-b4ea-72faec42fd27",
   "metadata": {},
   "source": [
    "## ANN"
   ]
  },
  {
   "cell_type": "code",
   "execution_count": 40,
   "id": "dbc3b62d-1899-43b8-beb1-ff3c69cd8426",
   "metadata": {},
   "outputs": [],
   "source": [
    "from sklearn.neural_network import MLPClassifier\n",
    "mlp = MLPClassifier(hidden_layer_sizes=(50,), max_iter=100, alpha=1e-4, solver='adam', verbose=10, tol=1e-4, random_state=1, learning_rate_init=.01)"
   ]
  },
  {
   "cell_type": "code",
   "execution_count": 41,
   "id": "45b2723f-c69c-45e0-a5ae-2424975c37ee",
   "metadata": {},
   "outputs": [],
   "source": [
    "pipe_mlp = Pipeline([('scl', StandardScaler()),('clf', mlp)])\n",
    "train_sizes_mlp, train_scores_mlp, test_scores_mlp = learning_curve(estimator=pipe_mlp,X=X, y=y, train_sizes=np.linspace(0.2,1.0,5), cv=5, n_jobs=-1)\n",
    "train_mean_mlp = np.mean(train_scores_mlp, axis=1)\n",
    "train_std_mlp = np.std(train_scores_mlp, axis=1)\n",
    "test_mean_mlp = np.mean(test_scores_mlp, axis=1)\n",
    "test_std_mlp = np.std(test_scores_mlp, axis=1)"
   ]
  },
  {
   "cell_type": "code",
   "execution_count": 42,
   "id": "2d651ee4-bfb5-4114-85db-08776475eb64",
   "metadata": {},
   "outputs": [
    {
     "name": "stdout",
     "output_type": "stream",
     "text": [
      "0.985353588266108\n",
      "0.9884634188929631\n",
      "0.9901310160583432\n",
      "0.9928558020962018\n",
      "0.9942155109794939\n"
     ]
    }
   ],
   "source": [
    "for i in train_mean_mlp:\n",
    "    print(i)"
   ]
  },
  {
   "cell_type": "code",
   "execution_count": 43,
   "id": "dd8ac2bc-010f-4588-b227-9ecb0d59ec12",
   "metadata": {},
   "outputs": [
    {
     "name": "stdout",
     "output_type": "stream",
     "text": [
      "0.9133682190042546\n",
      "0.9056155306315725\n",
      "0.9763005615252812\n",
      "0.9887467723912721\n",
      "0.9934626442576494\n"
     ]
    }
   ],
   "source": [
    "for i in test_mean_mlp:\n",
    "    print(i)"
   ]
  },
  {
   "cell_type": "code",
   "execution_count": 44,
   "id": "dd01805d-08be-48aa-bcbd-28ada263f94c",
   "metadata": {},
   "outputs": [
    {
     "name": "stdout",
     "output_type": "stream",
     "text": [
      "Iteration 1, loss = 0.04812890\n",
      "Iteration 2, loss = 0.01863045\n",
      "Iteration 3, loss = 0.01530565\n",
      "Iteration 4, loss = 0.01354468\n",
      "Iteration 5, loss = 0.01369359\n",
      "Iteration 6, loss = 0.01345103\n",
      "Iteration 7, loss = 0.01371228\n",
      "Iteration 8, loss = 0.01340979\n",
      "Iteration 9, loss = 0.01318144\n",
      "Iteration 10, loss = 0.01330646\n",
      "Iteration 11, loss = 0.01271194\n",
      "Iteration 12, loss = 0.01259398\n",
      "Iteration 13, loss = 0.01355640\n",
      "Iteration 14, loss = 0.01261982\n",
      "Iteration 15, loss = 0.01340351\n",
      "Iteration 16, loss = 0.01285886\n",
      "Iteration 17, loss = 0.01251214\n",
      "Iteration 18, loss = 0.01296192\n",
      "Iteration 19, loss = 0.01250669\n",
      "Iteration 20, loss = 0.01289118\n",
      "Iteration 21, loss = 0.01284879\n",
      "Iteration 22, loss = 0.01257699\n",
      "Iteration 23, loss = 0.01245634\n",
      "Training loss did not improve more than tol=0.000100 for 10 consecutive epochs. Stopping.\n"
     ]
    }
   ],
   "source": [
    "pipe_mlp = pipe_mlp.fit(X_train, y_train)\n",
    "y_pred_train = pipe_mlp.predict(X_train)\n",
    "y_pred_test = pipe_mlp.predict(X_test)"
   ]
  },
  {
   "cell_type": "code",
   "execution_count": 45,
   "id": "508110f4-07a7-4959-a9ae-fa09f7d7e3cb",
   "metadata": {},
   "outputs": [
    {
     "data": {
      "text/plain": [
       "(0.994109148380814, 0.9944590857025786)"
      ]
     },
     "execution_count": 45,
     "metadata": {},
     "output_type": "execute_result"
    }
   ],
   "source": [
    "accuracy_score(y_train, y_pred_train), accuracy_score(y_test, y_pred_test)"
   ]
  },
  {
   "cell_type": "code",
   "execution_count": 46,
   "id": "462ff55d-befd-469b-815a-95c32e3af432",
   "metadata": {},
   "outputs": [
    {
     "name": "stdout",
     "output_type": "stream",
     "text": [
      "                    precision    recall  f1-score   support\n",
      "\n",
      "            Normal       0.98      0.65      0.78      4041\n",
      "         DoSattack       1.00      1.00      1.00       240\n",
      "              scan       1.00      1.00      1.00       620\n",
      "  malitiousControl       1.00      1.00      1.00       562\n",
      "malitiousOperation       1.00      1.00      1.00      1087\n",
      "            spying       1.00      1.00      1.00       370\n",
      "       dataProbing       1.00      1.00      1.00        90\n",
      "        wrongSetUp       0.99      1.00      1.00    243548\n",
      "\n",
      "          accuracy                           0.99    250558\n",
      "         macro avg       1.00      0.96      0.97    250558\n",
      "      weighted avg       0.99      0.99      0.99    250558\n",
      "\n"
     ]
    }
   ],
   "source": [
    "print(classification_report(y_train, y_pred_train, target_names=target_names))"
   ]
  },
  {
   "cell_type": "code",
   "execution_count": 47,
   "id": "54946af6-43c6-4fa3-bc45-061573c07ecc",
   "metadata": {},
   "outputs": [
    {
     "name": "stdout",
     "output_type": "stream",
     "text": [
      "                    precision    recall  f1-score   support\n",
      "\n",
      "            Normal       0.99      0.67      0.80      1739\n",
      "         DoSattack       1.00      1.00      1.00       102\n",
      "              scan       1.00      1.00      1.00       269\n",
      "  malitiousControl       1.00      1.00      1.00       243\n",
      "malitiousOperation       1.00      1.00      1.00       460\n",
      "            spying       1.00      1.00      1.00       162\n",
      "       dataProbing       1.00      1.00      1.00        32\n",
      "        wrongSetUp       0.99      1.00      1.00    104376\n",
      "\n",
      "          accuracy                           0.99    107383\n",
      "         macro avg       1.00      0.96      0.97    107383\n",
      "      weighted avg       0.99      0.99      0.99    107383\n",
      "\n"
     ]
    }
   ],
   "source": [
    "print(classification_report(y_test, y_pred_test, target_names=target_names))"
   ]
  },
  {
   "cell_type": "code",
   "execution_count": 48,
   "id": "4ef0a7d7-323f-4163-86ee-0b201536eb1d",
   "metadata": {},
   "outputs": [],
   "source": [
    "cnf_matrix = confusion_matrix(y_test, y_pred_test)"
   ]
  },
  {
   "cell_type": "code",
   "execution_count": 49,
   "id": "e6bcc089-b80b-47d9-a790-c47a6f1406b0",
   "metadata": {},
   "outputs": [
    {
     "data": {
      "image/png": "[encoded data removed]",
      "text/plain": [
       "<Figure size 640x480 with 2 Axes>"
      ]
     },
     "metadata": {},
     "output_type": "display_data"
    }
   ],
   "source": [
    "aax = sns.heatmap(cnf_matrix, annot=True, fmt=\"d\")\n",
    "\n",
    "# Define the new tick labels\n",
    "new_labels = [\"DoS\", \"D.P\", \"M.C\", \"M.O\", \"SC\", \"SP\", \"W.S\", \"NL\"]\n",
    "\n",
    "# Set the new tick labels for both axes\n",
    "aax.set_xticklabels(new_labels)\n",
    "aax.set_yticklabels(new_labels)\n",
    "\n",
    "\n",
    "aax.set_title('ANN')\n",
    "plt.savefig(\"ANN.jpg\")\n",
    "# Show the plot\n",
    "plt.show()"
   ]
  },
  {
   "cell_type": "code",
   "execution_count": null,
   "id": "b22d732f-e674-4110-8141-435718d0f218",
   "metadata": {},
   "outputs": [],
   "source": [
    "cnf_matrix"
   ]
  },
  {
   "cell_type": "markdown",
   "id": "846c779e-5148-47b4-b98e-45d5d553d00f",
   "metadata": {},
   "source": [
    "# Decision Tree"
   ]
  },
  {
   "cell_type": "code",
   "execution_count": 69,
   "id": "857cb542-981d-4e22-b090-c30ae0e8a94c",
   "metadata": {},
   "outputs": [],
   "source": [
    "from sklearn import tree"
   ]
  },
  {
   "cell_type": "code",
   "execution_count": 75,
   "id": "89d64f6c-6f1c-496e-965f-ec35d190aeb3",
   "metadata": {},
   "outputs": [],
   "source": [
    "pipe_tree = Pipeline([('scl', StandardScaler()),('clf', tree.DecisionTreeClassifier())])\n",
    "train_sizes_tree, train_scores_tree, test_scores_tree = learning_curve(estimator=pipe_tree,X=X, y=y, train_sizes=np.linspace(0.2,1.0,5), cv=10, n_jobs=-1)\n",
    "train_mean_tree = np.mean(train_scores_tree, axis=1)\n",
    "train_std_tree = np.std(train_scores_tree, axis=1)\n",
    "test_mean_tree = np.mean(test_scores_tree, axis=1)\n",
    "test_std_tree = np.std(test_scores_tree, axis=1)"
   ]
  },
  {
   "cell_type": "code",
   "execution_count": 76,
   "id": "9f15a2b8-c932-4dfe-8bab-da7588f94800",
   "metadata": {},
   "outputs": [
    {
     "name": "stdout",
     "output_type": "stream",
     "text": [
      "0.9867062968539011\n",
      "0.987331015536482\n",
      "0.9906874233652548\n",
      "0.993015567523941\n",
      "0.9942169078616528\n"
     ]
    }
   ],
   "source": [
    "for i in train_mean_tree:\n",
    "    print(i)"
   ]
  },
  {
   "cell_type": "code",
   "execution_count": 77,
   "id": "e92c5845-870e-4e75-8367-e3c2735b7e37",
   "metadata": {},
   "outputs": [
    {
     "name": "stdout",
     "output_type": "stream",
     "text": [
      "0.9688523714914659\n",
      "0.8898558986589176\n",
      "0.9812958050225834\n",
      "0.9877773347282357\n",
      "0.9941024123832933\n"
     ]
    }
   ],
   "source": [
    "for i in test_mean_tree:\n",
    "    print(i)"
   ]
  },
  {
   "cell_type": "code",
   "execution_count": 78,
   "id": "f9bc12e5-a61e-47f4-8a1f-3bd633016448",
   "metadata": {},
   "outputs": [],
   "source": [
    "pipe_tree = pipe_tree.fit(X_train, y_train)\n",
    "y_pred_train = pipe_tree.predict(X_train)\n",
    "y_pred_test = pipe_tree.predict(X_test)"
   ]
  },
  {
   "cell_type": "code",
   "execution_count": 79,
   "id": "5c9d0d19-7e10-4622-bdeb-9dff8fc58a1c",
   "metadata": {},
   "outputs": [
    {
     "data": {
      "text/plain": [
       "(0.994109148380814, 0.9944683981635827)"
      ]
     },
     "execution_count": 79,
     "metadata": {},
     "output_type": "execute_result"
    }
   ],
   "source": [
    "accuracy_score(y_train, y_pred_train), accuracy_score(y_test, y_pred_test)"
   ]
  },
  {
   "cell_type": "code",
   "execution_count": 80,
   "id": "84bfb8ca-67c9-4f64-b536-511effe34fca",
   "metadata": {},
   "outputs": [
    {
     "name": "stdout",
     "output_type": "stream",
     "text": [
      "                    precision    recall  f1-score   support\n",
      "\n",
      "            Normal       0.98      0.65      0.78      4041\n",
      "         DoSattack       1.00      1.00      1.00       240\n",
      "              scan       1.00      1.00      1.00       620\n",
      "  malitiousControl       1.00      1.00      1.00       562\n",
      "malitiousOperation       1.00      1.00      1.00      1087\n",
      "            spying       1.00      1.00      1.00       370\n",
      "       dataProbing       1.00      1.00      1.00        90\n",
      "        wrongSetUp       0.99      1.00      1.00    243548\n",
      "\n",
      "          accuracy                           0.99    250558\n",
      "         macro avg       1.00      0.96      0.97    250558\n",
      "      weighted avg       0.99      0.99      0.99    250558\n",
      "\n"
     ]
    }
   ],
   "source": [
    "print(classification_report(y_train, y_pred_train, target_names=target_names))"
   ]
  },
  {
   "cell_type": "code",
   "execution_count": 81,
   "id": "5237398b-aaac-4341-9dba-8187e9e1b15c",
   "metadata": {},
   "outputs": [
    {
     "name": "stdout",
     "output_type": "stream",
     "text": [
      "                    precision    recall  f1-score   support\n",
      "\n",
      "            Normal       0.99      0.67      0.80      1739\n",
      "         DoSattack       1.00      1.00      1.00       102\n",
      "              scan       1.00      1.00      1.00       269\n",
      "  malitiousControl       1.00      1.00      1.00       243\n",
      "malitiousOperation       1.00      1.00      1.00       460\n",
      "            spying       1.00      1.00      1.00       162\n",
      "       dataProbing       1.00      1.00      1.00        32\n",
      "        wrongSetUp       0.99      1.00      1.00    104376\n",
      "\n",
      "          accuracy                           0.99    107383\n",
      "         macro avg       1.00      0.96      0.97    107383\n",
      "      weighted avg       0.99      0.99      0.99    107383\n",
      "\n"
     ]
    }
   ],
   "source": [
    "print(classification_report(y_test, y_pred_test, target_names=target_names))"
   ]
  },
  {
   "cell_type": "code",
   "execution_count": 82,
   "id": "d3b632e1-0fbb-42cf-bb2d-1535e44dbfef",
   "metadata": {},
   "outputs": [],
   "source": [
    "cnf_matrix = confusion_matrix(y_test, y_pred_test)"
   ]
  },
  {
   "cell_type": "code",
   "execution_count": 83,
   "id": "d11de4c9-4309-466c-963d-297d6437810e",
   "metadata": {},
   "outputs": [
    {
     "data": {
      "image/png": "[encoded data removed]",
      "text/plain": [
       "<Figure size 640x480 with 2 Axes>"
      ]
     },
     "metadata": {},
     "output_type": "display_data"
    }
   ],
   "source": [
    "dax = sns.heatmap(cnf_matrix, annot=True, fmt=\"d\")\n",
    "\n",
    "# Define the new tick labels\n",
    "new_labels = [\"DoS\", \"D.P\", \"M.C\", \"M.O\", \"SC\", \"SP\", \"W.S\", \"NL\"]\n",
    "\n",
    "# Set the new tick labels for both axes\n",
    "aax.set_xticklabels(new_labels)\n",
    "aax.set_yticklabels(new_labels)\n",
    "\n",
    "\n",
    "aax.set_title('DT')\n",
    "plt.savefig(\"DT.jpg\")\n",
    "# Show the plot\n",
    "plt.show()"
   ]
  },
  {
   "cell_type": "code",
   "execution_count": 61,
   "id": "7bdb433b-d171-4d6b-a02b-d4bbf0959387",
   "metadata": {},
   "outputs": [
    {
     "data": {
      "text/plain": [
       "array([[0.98657238, 0.98608346, 0.98617077, 0.98641523, 0.98641523],\n",
       "       [0.99011699, 0.98574297, 0.9856382 , 0.98581282, 0.98581282],\n",
       "       [0.9916187 , 0.98872016, 0.98291728, 0.98416865, 0.98348185],\n",
       "       [0.9897067 , 0.98713555, 0.98393581, 0.98389216, 0.98702642],\n",
       "       [0.99087836, 0.98919861, 0.98660739, 0.98656549, 0.98792046]])"
      ]
     },
     "execution_count": 61,
     "metadata": {},
     "output_type": "execute_result"
    }
   ],
   "source": [
    "train_scores"
   ]
  },
  {
   "cell_type": "code",
   "execution_count": 62,
   "id": "4f525d70-0813-44c8-9dca-a8c3b072a94f",
   "metadata": {},
   "outputs": [
    {
     "data": {
      "text/plain": [
       "array([[0.98672953, 0.98648507, 0.98672953, 0.98674699, 0.98674699],\n",
       "       [0.9926314 , 0.98990746, 0.98658111, 0.98659857, 0.98659857],\n",
       "       [0.99508763, 0.99327168, 0.9883593 , 0.9883593 , 0.98835348],\n",
       "       [0.99612801, 0.99475731, 0.9910643 , 0.9910643 , 0.99126946],\n",
       "       [0.99686749, 0.99577094, 0.99281304, 0.99281653, 0.99281304]])"
      ]
     },
     "execution_count": 62,
     "metadata": {},
     "output_type": "execute_result"
    }
   ],
   "source": [
    "train_scores_rnd"
   ]
  },
  {
   "cell_type": "code",
   "execution_count": 84,
   "id": "5bbdbb2d-c447-4566-a840-2fb699193a79",
   "metadata": {},
   "outputs": [
    {
     "data": {
      "image/png": "[encoded data removed]",
      "text/plain": [
       "<Figure size 1000x600 with 1 Axes>"
      ]
     },
     "metadata": {},
     "output_type": "display_data"
    }
   ],
   "source": [
    " plt.figure(figsize=(10, 6))\n",
    "plt.plot(train_sizes, train_mean, marker='o', label='Logistic Regression')\n",
    "plt.plot(train_sizes, train_mean_rnd, marker='o', label='Random Forest')\n",
    "plt.plot(train_sizes, train_mean_mlp, marker='o', label='ANN')\n",
    "plt.plot(train_sizes, train_mean_tree, marker='o', label='Decision Tree')\n",
    "\n",
    "# Title and labels\n",
    "# plt.title('Model Performance vs. Training Sizes')\n",
    "plt.xlabel('Training Sizes')\n",
    "plt.ylabel('Accuracy')\n",
    "plt.legend()\n",
    "plt.savefig(\"train_acc.jpg\")\n",
    "# Show plot\n",
    "plt.tight_layout()\n",
    "plt.show()"
   ]
  },
  {
   "cell_type": "code",
   "execution_count": 85,
   "id": "77c20c64-1bc7-431a-b6e3-b26dd639de57",
   "metadata": {},
   "outputs": [
    {
     "data": {
      "image/png": "[encoded data removed]",
      "text/plain": [
       "<Figure size 1000x600 with 1 Axes>"
      ]
     },
     "metadata": {},
     "output_type": "display_data"
    }
   ],
   "source": [
    " plt.figure(figsize=(10, 6))\n",
    "plt.plot(train_sizes, test_mean, marker='o', label='Logistic Regression')\n",
    "plt.plot(train_sizes, test_mean_rnd, marker='o', label='Random Forest')\n",
    "plt.plot(train_sizes, test_mean_mlp, marker='o', label='ANN')\n",
    "plt.plot(train_sizes, test_mean_tree, marker='o', label='Decision Tree')\n",
    "# Title and labels\n",
    "# plt.title('Model Performance vs. Training Sizes')\n",
    "plt.xlabel('Training Sizes')\n",
    "plt.ylabel('Accuracy')\n",
    "plt.legend()\n",
    "plt.savefig(\"test_acc.jpg\")\n",
    "# Show plot\n",
    "plt.tight_layout()\n",
    "plt.show()"
   ]
  },
  {
   "cell_type": "markdown",
   "id": "7933c8ad-2642-4ac8-8cdc-8384cfd1871c",
   "metadata": {},
   "source": [
    "# XGBoost"
   ]
  },
  {
   "cell_type": "code",
   "execution_count": null,
   "id": "e2d8e4d2-d673-41ef-b6ec-3efcf68fdb21",
   "metadata": {},
   "outputs": [],
   "source": [
    "from xgboost import XGBClassifier"
   ]
  },
  {
   "cell_type": "code",
   "execution_count": null,
   "id": "0a879d63-8f25-4fcf-a11c-c28e62b0f069",
   "metadata": {},
   "outputs": [],
   "source": [
    "pipe_xgb = Pipeline([('scl', StandardScaler()), ('clf', XGBClassifier())])"
   ]
  },
  {
   "cell_type": "code",
   "execution_count": null,
   "id": "a73e0015-e38a-4003-81d7-9d75be6dbc3c",
   "metadata": {},
   "outputs": [],
   "source": [
    "train_sizes_xgb, train_scores_xgb, test_scores_xgb = learning_curve(estimator=pipe_xgb, X=X, y=y, \n",
    "                                                                    train_sizes=np.linspace(0.2, 1.0, 5), \n",
    "                                                                    cv=5, n_jobs=-1,error_score='raise')"
   ]
  },
  {
   "cell_type": "code",
   "execution_count": null,
   "id": "df831cf1-9058-44a7-9721-2725883c3469",
   "metadata": {},
   "outputs": [],
   "source": [
    "train_mean_xgb = np.mean(train_scores_xgb, axis=1)\n",
    "train_std_xgb = np.std(train_scores_xgb, axis=1)\n",
    "test_mean_xgb = np.mean(test_scores_xgb, axis=1)\n",
    "test_std_xgb = np.std(test_scores_xgb, axis=1)"
   ]
  },
  {
   "cell_type": "code",
   "execution_count": null,
   "id": "6373c088-5576-4c90-b580-824c06286292",
   "metadata": {},
   "outputs": [],
   "source": [
    "from sklearn.datasets import load_wine\n",
    "from sklearn.utils import resample\n",
    "import numpy as np\n",
    "\n",
    "# Load Wine dataset\n",
    "wine = load_wine()\n",
    "X = wine.data\n",
    "y = wine.target\n",
    "\n",
    "# Check class distribution\n",
    "unique, counts = np.unique(y, return_counts=True)\n",
    "print(\"Class Distribution Before Balancing:\")\n",
    "print(dict(zip(unique, counts)))\n",
    "\n",
    "# Find the class with the least samples\n",
    "min_samples = np.min(counts)\n",
    "\n",
    "# Resample each class to have the same number of samples as the class with the least samples\n",
    "balanced_X = []\n",
    "balanced_y = []\n",
    "for class_label in np.unique(y):\n",
    "    X_class = X[y == class_label]\n",
    "    X_class_resampled = resample(X_class, replace=False, n_samples=min_samples, random_state=42)\n",
    "    balanced_X.extend(X_class_resampled)\n",
    "    balanced_y.extend([class_label] * min_samples)\n",
    "\n",
    "balanced_X = np.array(balanced_X)\n",
    "balanced_y = np.array(balanced_y)\n",
    "\n",
    "# Check class distribution after balancing\n",
    "unique_balanced, counts_balanced = np.unique(balanced_y, return_counts=True)\n",
    "print(\"\\nClass Distribution After Balancing:\")\n",
    "print(dict(zip(unique_balanced, counts_balanced)))\n"
   ]
  }
 ],
 "metadata": {
  "kernelspec": {
   "display_name": "Python 3 (ipykernel)",
   "language": "python",
   "name": "python3"
  },
  "language_info": {
   "codemirror_mode": {
    "name": "ipython",
    "version": 3
   },
   "file_extension": ".py",
   "mimetype": "text/x-python",
   "name": "python",
   "nbconvert_exporter": "python",
   "pygments_lexer": "ipython3",
   "version": "3.11.3"
  }
 },
 "nbformat": 4,
 "nbformat_minor": 5
}
